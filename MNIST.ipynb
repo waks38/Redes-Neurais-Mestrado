{
 "cells": [
  {
   "cell_type": "markdown",
   "id": "651d9c49",
   "metadata": {},
   "source": [
    "## Reconhecimento de dígitos com MLP"
   ]
  },
  {
   "cell_type": "code",
   "execution_count": 37,
   "id": "fc80103a",
   "metadata": {},
   "outputs": [],
   "source": [
    "import torch\n",
    "import torch.nn as nn\n",
    "from torchvision import datasets\n",
    "from torch.utils.data import dataloader\n",
    "from torchvision.transforms import ToTensor"
   ]
  },
  {
   "cell_type": "code",
   "execution_count": null,
   "id": "8e9c6496",
   "metadata": {},
   "outputs": [],
   "source": [
    "data_train = datasets.MNIST(root='DataSets', \n",
    "                            train=True,\n",
    "                            download=True,\n",
    "                            transform=ToTensor()) # Normaliza os dados\n",
    "data_test = datasets.MNIST(root='DataSets', \n",
    "                            train=False,\n",
    "                            download=True,\n",
    "                            transform=ToTensor())"
   ]
  },
  {
   "cell_type": "code",
   "execution_count": 36,
   "id": "6c45cb44",
   "metadata": {},
   "outputs": [],
   "source": [
    "device = torch.device('cuda' if torch.cuda.is_available() else 'cpu')\n",
    "\n",
    "batch_size = 128\n",
    "epochs = 20"
   ]
  },
  {
   "cell_type": "code",
   "execution_count": 38,
   "id": "d896324b",
   "metadata": {},
   "outputs": [],
   "source": [
    "train_loader = dataloader.DataLoader(dataset=data_train, batch_size=128, shuffle=True)\n",
    "test_loader = dataloader.DataLoader(dataset=data_test, batch_size=128, shuffle=False)\n"
   ]
  },
  {
   "cell_type": "code",
   "execution_count": null,
   "id": "4378ee7f",
   "metadata": {},
   "outputs": [
    {
     "name": "stdout",
     "output_type": "stream",
     "text": [
      "Arquitetura do Modelo:\n",
      "MLP(\n",
      "  (fc1): Linear(in_features=784, out_features=256, bias=True)\n",
      "  (tanh1): Tanh()\n",
      "  (fc2): Linear(in_features=256, out_features=256, bias=True)\n",
      "  (tanh2): Tanh()\n",
      "  (fc3): Linear(in_features=256, out_features=10, bias=True)\n",
      ")\n"
     ]
    }
   ],
   "source": [
    "class MLP(nn.Module):\n",
    "    def __init__(self,input_size,hidden_size, output_size):\n",
    "        super(MLP,self).__init__()\n",
    "        self.fc1 = nn.Linear(input_size,hidden_size)\n",
    "        self.tanh1 = nn.Tanh()\n",
    "        self.fc2 = nn.Linear(hidden_size,hidden_size)\n",
    "        self.tanh2 = nn.Tanh()\n",
    "        self.fc3 = nn.Linear(hidden_size,output_size)\n",
    "    \n",
    "    def forward(self, x):\n",
    "        # Achatando a imagem de [batch_size, 1, 28, 28] para [batch_size, 784]\n",
    "        x = x.view(-1, 28*28)\n",
    "        out = self.fc1(x)\n",
    "        out = self.tanh1(out)\n",
    "        out = self.fc2(out)\n",
    "        out = self.tanh2(out)\n",
    "        out = self.fc3(out)\n",
    "        # Nenhuma função de ativação aqui, pois CrossEntropyLoss cuidará disso\n",
    "        return out\n",
    "\n",
    "model = MLP(28*28, 256, 10)\n",
    "print(\"Arquitetura do Modelo:\")\n",
    "print(model)"
   ]
  },
  {
   "cell_type": "code",
   "execution_count": null,
   "id": "0d6a2a1a",
   "metadata": {},
   "outputs": [],
   "source": [
    "loss_func = nn.CrossEntropyLoss()\n",
    "opt = torch.optim.Adam(model.parameters(), lr=0.001)"
   ]
  },
  {
   "cell_type": "code",
   "execution_count": null,
   "id": "641fbb1f",
   "metadata": {},
   "outputs": [
    {
     "name": "stdout",
     "output_type": "stream",
     "text": [
      "\n",
      "--- INICIANDO TREINAMENTO COM DADOS NORMALIZADOS ---\n",
      "Época [1/20], Perda: 0.3265, Acurácia: 90.54%\n",
      "Época [2/20], Perda: 0.1509, Acurácia: 95.51%\n",
      "Época [3/20], Perda: 0.1017, Acurácia: 96.91%\n",
      "Época [4/20], Perda: 0.0759, Acurácia: 97.65%\n",
      "Época [5/20], Perda: 0.0580, Acurácia: 98.16%\n",
      "Época [6/20], Perda: 0.0426, Acurácia: 98.69%\n",
      "Época [7/20], Perda: 0.0334, Acurácia: 98.94%\n",
      "Época [8/20], Perda: 0.0246, Acurácia: 99.23%\n",
      "Época [9/20], Perda: 0.0188, Acurácia: 99.47%\n",
      "Época [10/20], Perda: 0.0161, Acurácia: 99.51%\n",
      "Época [11/20], Perda: 0.0115, Acurácia: 99.67%\n",
      "Época [12/20], Perda: 0.0087, Acurácia: 99.77%\n",
      "Época [13/20], Perda: 0.0070, Acurácia: 99.83%\n",
      "Época [14/20], Perda: 0.0067, Acurácia: 99.84%\n",
      "Época [15/20], Perda: 0.0145, Acurácia: 99.49%\n",
      "Época [16/20], Perda: 0.0054, Acurácia: 99.85%\n",
      "Época [17/20], Perda: 0.0022, Acurácia: 99.95%\n",
      "Época [18/20], Perda: 0.0011, Acurácia: 99.98%\n",
      "Época [19/20], Perda: 0.0081, Acurácia: 99.73%\n",
      "Época [20/20], Perda: 0.0121, Acurácia: 99.58%\n",
      "--- TREINAMENTO CONCLUÍDO ---\n"
     ]
    }
   ],
   "source": [
    "history_norm = {'loss': [], 'accuracy': []}\n",
    "total_step = len(train_loader)\n",
    "\n",
    "print(\"\\n--- INICIANDO TREINAMENTO COM DADOS NORMALIZADOS ---\")\n",
    "model.to(device)\n",
    "model.train()\n",
    "for epoch in range(20):\n",
    "    total_loss = 0\n",
    "    correct = 0\n",
    "    total = 0\n",
    "    for i, (images, labels) in enumerate(train_loader):\n",
    "        # Forward pass\n",
    "        images = images.to(device)\n",
    "        labels = labels.to(device)\n",
    "        outputs = model_norm(images)\n",
    "        loss = loss_func(outputs, labels)\n",
    "\n",
    "        # Backward and optimize\n",
    "        opt.zero_grad()\n",
    "        loss.backward()\n",
    "        opt.step()\n",
    "\n",
    "        # Monitoramento\n",
    "        total_loss += loss.item()\n",
    "        _, predicted = torch.max(outputs.data, 1)\n",
    "        total += labels.size(0)\n",
    "        correct += (predicted == labels).sum().item()\n",
    "\n",
    "    epoch_loss = total_loss / total_step\n",
    "    epoch_acc = 100 * correct / total\n",
    "    history_norm['loss'].append(epoch_loss)\n",
    "    history_norm['accuracy'].append(epoch_acc)\n",
    "\n",
    "    print(f'Época [{epoch+1}/{20}], Perda: {epoch_loss:.4f}, Acurácia: {epoch_acc:.2f}%')\n",
    "\n",
    "print(\"--- TREINAMENTO CONCLUÍDO ---\")"
   ]
  },
  {
   "cell_type": "code",
   "execution_count": null,
   "id": "e4f496c9",
   "metadata": {},
   "outputs": [],
   "source": [
    "model.eval()\n",
    "all_preds = []\n",
    "all_labels = []\n",
    "with torch.no_grad():\n",
    "    correct = 0\n",
    "    total = 0\n",
    "    for images, labels in test_loader:\n",
    "        # --- 3. MOVER OS DADOS DE TESTE PARA A GPU --- ### GPU ###\n",
    "        images = images.to(device)\n",
    "        labels = labels.to(device)\n",
    "        \n",
    "        outputs = model(images)\n",
    "        _, predicted = torch.max(outputs.data, 1)\n",
    "        total += labels.size(0)\n",
    "        correct += (predicted == labels).sum().item()\n",
    "        \n",
    "        # Para a matriz de confusão, precisamos trazer os dados de volta para a CPU\n",
    "        all_preds.extend(predicted.cpu().numpy())\n",
    "        all_labels.extend(labels.cpu().numpy())\n",
    "\n",
    "accuracy_test = 100 * correct / total\n",
    "print(f'\\nAcurácia do modelo no conjunto de teste: {accuracy_test:.2f} %')\n"
   ]
  }
 ],
 "metadata": {
  "kernelspec": {
   "display_name": ".venv",
   "language": "python",
   "name": "python3"
  },
  "language_info": {
   "codemirror_mode": {
    "name": "ipython",
    "version": 3
   },
   "file_extension": ".py",
   "mimetype": "text/x-python",
   "name": "python",
   "nbconvert_exporter": "python",
   "pygments_lexer": "ipython3",
   "version": "3.13.5"
  }
 },
 "nbformat": 4,
 "nbformat_minor": 5
}
